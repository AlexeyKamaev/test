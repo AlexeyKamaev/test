{
 "cells": [
  {
   "cell_type": "code",
   "execution_count": 35,
   "id": "288868ef-67d6-4f1f-8a1b-d85de6531a88",
   "metadata": {},
   "outputs": [],
   "source": [
    "\n",
    "list_for_funcs = [4, 1, 8, 3, 4, 42, 6, 9, 8]\n",
    "list_for_funcs_2 = [1, 2, 3, 4, 5, 6, 7, 8, 9, 10, 11, 12, 13]"
   ]
  },
  {
   "cell_type": "code",
   "execution_count": 36,
   "id": "fe542e0e-c50a-486d-86ef-0f298aaedc30",
   "metadata": {},
   "outputs": [
    {
     "name": "stdout",
     "output_type": "stream",
     "text": [
      "[4, 8, 4]\n"
     ]
    }
   ],
   "source": [
    "def even_list(l: list) -> list:\n",
    "    r = []\n",
    "    for i in l:\n",
    "        if i == 42:\n",
    "            break\n",
    "        if i % 2 == 0:\n",
    "            r.append(i)\n",
    "    return r\n",
    "\n",
    "print(even_list(list_for_funcs))"
   ]
  },
  {
   "cell_type": "code",
   "execution_count": 50,
   "id": "bf38f72b-b3b1-4871-9b84-d1182275a729",
   "metadata": {},
   "outputs": [
    {
     "name": "stdout",
     "output_type": "stream",
     "text": [
      "('b', 'c', 'e')\n"
     ]
    }
   ],
   "source": [
    "d3 = {'a':3.14, 'b':5678, 'c': 200,'d':-100, 'e':4567, 'f': 42}\n",
    "\n",
    "def triple_from_dict(d: dict) -> tuple:\n",
    "    a,b,c = dict(sorted(sorted(d.items(),key = lambda x: x[1],reverse = True)[:3])).keys()\n",
    "    return a,b,c\n",
    "\n",
    "print(triple_from_dict(d3))"
   ]
  },
  {
   "cell_type": "code",
   "execution_count": 93,
   "id": "ccb72b93-1ffd-46b0-a847-1af0d3b0cdbb",
   "metadata": {},
   "outputs": [
    {
     "name": "stdout",
     "output_type": "stream",
     "text": [
      "('так', 'отображалось')\n"
     ]
    }
   ],
   "source": [
    "def mode_and_longest(s: str) -> tuple:\n",
    "    from string import punctuation\n",
    "    print('puntcuation')",
    "    for symbol in punctuation:\n",
    "        s = s.replace(symbol,'')\n",
    "    a = sorted(s.strip().split(), key = len,reverse = True)\n",
    "    maxi = 0\n",
    "    for i in a:\n",
    "        if a.count(i.lower()) > maxi:\n",
    "            maxi = a.count(i.lower())\n",
    "            temp = i \n",
    "    return (temp,a[0])\n",
    "\n",
    "print(mode_and_longest('Cделайте так, чтобы число секунд отображалось \\\n",
    "                        в виде дни часы минуты секунды. Вот так:'))"
   ]
  },
  {
   "cell_type": "code",
   "execution_count": 1,
   "id": "e78a7b72-996d-45b2-ba5c-857640e9afd6",
   "metadata": {},
   "outputs": [
    {
     "name": "stdout",
     "output_type": "stream",
     "text": [
      "{'TP': 3, 'TN': 2, 'FP': 2, 'FN': 1}\n"
     ]
    }
   ],
   "source": [
    "y_true = [1, 0, 1, 0, 1, 1, 0, 0]\n",
    "y_pred = [1, 0, 1, 1, 0, 1, 0, 1]\n",
    "\n",
    "def conf_matrix(y_true: list, y_pred:list) -> dict:\n",
    "    d = {}\n",
    "    for y1, y2 in list(zip(y_true,y_pred)):\n",
    "        if y2 == 1:\n",
    "            if y1 == 1:\n",
    "                d['TP'] = d.get('TP',0) + 1\n",
    "            else:\n",
    "                d['FP'] = d.get('FP',0) + 1\n",
    "        else:\n",
    "            if y1 == 0:\n",
    "                d['TN'] = d.get('TN',0) + 1\n",
    "            else:\n",
    "                d['FN'] = d.get('FN',0) + 1\n",
    "    return dict(sorted(d.items(),key = lambda x: x[1],reverse = True))\n",
    "\n",
    "print(conf_matrix(y_true, y_pred))"
   ]
  },
  {
   "cell_type": "code",
   "execution_count": 2,
   "id": "61023b73-cadd-4ccc-aa9e-ebab7108d3b4",
   "metadata": {},
   "outputs": [],
   "source": [
    "def accuracy(y_true: list, y_pred: list) -> float:\n",
    "    d = conf_matrix(y_true, y_pred)\n",
    "    return (d['TP'] + d['TN'])/sum(d.values())"
   ]
  },
  {
   "cell_type": "code",
   "execution_count": 3,
   "id": "e186df8c-d579-4e3a-af5f-bc67fe09d0f5",
   "metadata": {},
   "outputs": [
    {
     "name": "stdout",
     "output_type": "stream",
     "text": [
      "0.625\n"
     ]
    }
   ],
   "source": [
    "print(accuracy(y_true, y_pred))"
   ]
  },
  {
   "cell_type": "code",
   "execution_count": 4,
   "id": "a4d54468-d891-4746-8a32-2d2a30626c69",
   "metadata": {},
   "outputs": [
    {
     "name": "stdout",
     "output_type": "stream",
     "text": [
      "0.6\n"
     ]
    }
   ],
   "source": [
    "def prescision(y_true: list, y_pred: list) -> float:\n",
    "    d = conf_matrix(y_true, y_pred)\n",
    "    return d['TP']/(d['TP']+d['FP'])\n",
    "    \n",
    "print(prescision(y_true, y_pred))"
   ]
  },
  {
   "cell_type": "code",
   "execution_count": 5,
   "id": "8a4c960e-eff3-43c0-b838-a1f9cb7282a3",
   "metadata": {},
   "outputs": [
    {
     "name": "stdout",
     "output_type": "stream",
     "text": [
      "0.75\n"
     ]
    }
   ],
   "source": [
    "def recall(y_true: list, y_pred: list) -> float:\n",
    "    d = conf_matrix(y_true, y_pred)\n",
    "\n",
    "    return d['TP']/sum(y_true)\n",
    "\n",
    "print(recall(y_true, y_pred))"
   ]
  },
  {
   "cell_type": "code",
   "execution_count": 11,
   "id": "b4a125e0-061b-4e68-af68-4507b26256fc",
   "metadata": {},
   "outputs": [
    {
     "name": "stdout",
     "output_type": "stream",
     "text": [
      ".git .ipynb_checkpoints new_dir README.md Untitled.ipynb .gitignore Jupyetr test.ipynb\n"
     ]
    }
   ],
   "source": [
    "def list_files(path: str) -> list:\n",
    "    import os\n",
    "    files = os.listdir(path)\n",
    "    return files\n",
    "\n",
    "print(*list_files('.'))"
   ]
  },
  {
   "cell_type": "code",
   "execution_count": null,
   "id": "2c39f1de-8ea2-4e70-a19c-db9bca869d80",
   "metadata": {},
   "outputs": [],
   "source": []
  }
 ],
 "metadata": {
  "kernelspec": {
   "display_name": "Python 3 (ipykernel)",
   "language": "python",
   "name": "python3"
  },
  "language_info": {
   "codemirror_mode": {
    "name": "ipython",
    "version": 3
   },
   "file_extension": ".py",
   "mimetype": "text/x-python",
   "name": "python",
   "nbconvert_exporter": "python",
   "pygments_lexer": "ipython3",
   "version": "3.10.12"
  }
 },
 "nbformat": 4,
 "nbformat_minor": 5
}
